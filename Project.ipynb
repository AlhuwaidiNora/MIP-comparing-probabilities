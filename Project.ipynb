{
 "cells": [
  {
   "cell_type": "markdown",
   "metadata": {},
   "source": [
    "![ine-divider](https://user-images.githubusercontent.com/7065401/92672068-398e8080-f2ee-11ea-82d6-ad53f7feb5c0.png)\n",
    "<hr>\n",
    "\n",
    "# Intro to probability\n",
    "\n",
    "## Comparing Theoretical and Empirical Probabilities\n",
    "\n",
    "You are already know how probability works for rolling a `dice`. So, imagine that we will play a **role-playing game**. \n",
    "\n",
    "This game is played in the following ways:\n",
    "\n",
    "    a) The \"enemy\" may roll 1, 2, or 3 dice and sum the total values for each roll.\n",
    "\n",
    "    b) The \"attack\" may roll 1, 2 or 3 dice and sum the total values for each roll.\n",
    "\n",
    "    c) The total rolled attack dice is compared to the total rolled enemy dice, and\n",
    "\n",
    "       1. the attacker loses if the attack dice <= enemy dice,\n",
    "       2. the enemy loses if the attack dice > enemy dice.\n",
    "\n",
    "Standard dice have six faces numbered from 1 through 6. The probability of throwing a specific number is 1/6. If we call any specific number N,\n",
    "then the probability of throwing \"N or less\" with a single dice is the sum of the probabilities for each value from 1 to N.  \n",
    "\n",
    "![orange-divider](https://user-images.githubusercontent.com/7065401/92672455-187a5f80-f2ef-11ea-890c-40be9474f7b7.png)"
   ]
  },
  {
   "cell_type": "markdown",
   "metadata": {},
   "source": [
    "**A)** Implement a **dice()** function that can be used as dice throw and the function will return a random value between 1 to 6. "
   ]
  },
  {
   "cell_type": "code",
   "execution_count": null,
   "metadata": {},
   "outputs": [],
   "source": [
    "import random\n",
    "import pandas as pd"
   ]
  },
  {
   "cell_type": "code",
   "execution_count": null,
   "metadata": {},
   "outputs": [],
   "source": [
    "def dice():\n",
    "    return None"
   ]
  },
  {
   "cell_type": "markdown",
   "metadata": {},
   "source": [
    "---\n",
    "**B)** Now, define a function to `attack` the enemy which depends on the dice number."
   ]
  },
  {
   "cell_type": "code",
   "execution_count": null,
   "metadata": {},
   "outputs": [],
   "source": [
    "def attack(number_of_dice):\n",
    "    return None"
   ]
  },
  {
   "cell_type": "markdown",
   "metadata": {},
   "source": [
    "It's time to begin the **battle**!\n",
    "\n",
    "We will call `enemy_armour` the number which represents the power of the armour of your enemy and `number_of_dice` to the sum of dice when you attack."
   ]
  },
  {
   "cell_type": "markdown",
   "metadata": {},
   "source": [
    "---\n",
    "**C)** Define a `battle` function which returns a true value if you win the battle (the sum of the dice > enemy armour), and false otherwise."
   ]
  },
  {
   "cell_type": "code",
   "execution_count": null,
   "metadata": {},
   "outputs": [],
   "source": [
    "def battle(number_of_dice,enemy_armour):\n",
    "    '''Returns True if you beat the enemy, False otherwise'''\n",
    "    return None"
   ]
  },
  {
   "cell_type": "markdown",
   "metadata": {},
   "source": [
    "---\n",
    "**D)** Suppose the enemy has an armour with a power of 8 and you will attack with 2 dice. Who wins the battle?"
   ]
  },
  {
   "cell_type": "code",
   "execution_count": null,
   "metadata": {},
   "outputs": [],
   "source": [
    "def battle_1():\n",
    "    return None"
   ]
  },
  {
   "cell_type": "markdown",
   "metadata": {},
   "source": [
    "---\n",
    "**E)** If the enemy has an armour of 12 and you attack with 3 dice. Who wins the battle?"
   ]
  },
  {
   "cell_type": "code",
   "execution_count": null,
   "metadata": {},
   "outputs": [],
   "source": [
    "def battle_2():\n",
    "    return None"
   ]
  },
  {
   "cell_type": "markdown",
   "metadata": {},
   "source": [
    "---\n",
    "**F)** Let's calculate the **empirical probability** to win battle 1 and battle 2. "
   ]
  },
  {
   "cell_type": "code",
   "execution_count": null,
   "metadata": {},
   "outputs": [],
   "source": [
    "def empiric_prob(experiment, n=10000):\n",
    "    return None"
   ]
  },
  {
   "cell_type": "markdown",
   "metadata": {},
   "source": [
    "---\n",
    "**G)** Calculate the **theoretical probability** and compare with the **empirical one**:"
   ]
  },
  {
   "cell_type": "markdown",
   "metadata": {},
   "source": [
    "Here's an example of what first battle looks like. Remember that to win that battle we sum of the two dice should be higher than 8.\n",
    "\n",
    "So, to win that battle we need that the sum of the two dice should be higher than 8. "
   ]
  },
  {
   "cell_type": "code",
   "execution_count": null,
   "metadata": {},
   "outputs": [],
   "source": [
    "amount = 0\n",
    "count=0\n",
    "for x in range(1,7,1):\n",
    "    for y in range(1,7,1):\n",
    "        if x+y>8:\n",
    "            amount=amount+1\n",
    "        count=count+1\n",
    "        \n",
    "print(amount,count)        "
   ]
  },
  {
   "cell_type": "code",
   "execution_count": null,
   "metadata": {},
   "outputs": [],
   "source": [
    "round(abs(empiric_prob(battle_1)-amount/count),4)"
   ]
  },
  {
   "cell_type": "markdown",
   "metadata": {},
   "source": [
    "---\n",
    "**H)** The result is close to the \"empiric_prob(battle_1)\", but it could be better. What would you do to improve the empirical probability? "
   ]
  },
  {
   "cell_type": "code",
   "execution_count": null,
   "metadata": {},
   "outputs": [],
   "source": []
  },
  {
   "cell_type": "markdown",
   "metadata": {},
   "source": [
    "---\n",
    "**I)** Include in a dataframe the differences between the **empirical and theoretical probability** for different n values:"
   ]
  },
  {
   "cell_type": "code",
   "execution_count": null,
   "metadata": {},
   "outputs": [],
   "source": [
    "times = [10000, 100000, 1000000, 10000000]\n",
    "experiments = []\n",
    "\n"
   ]
  },
  {
   "cell_type": "markdown",
   "metadata": {},
   "source": [
    "**J)** Let's calculate the **theoretical probability** for the second battle and make a comparison with the **empirical** one."
   ]
  },
  {
   "cell_type": "code",
   "execution_count": null,
   "metadata": {},
   "outputs": [],
   "source": []
  },
  {
   "cell_type": "markdown",
   "metadata": {},
   "source": [
    "![orange-divider](https://user-images.githubusercontent.com/7065401/92672455-187a5f80-f2ef-11ea-890c-40be9474f7b7.png)"
   ]
  }
 ],
 "metadata": {
  "kernelspec": {
   "display_name": "Python 3",
   "language": "python",
   "name": "python3"
  },
  "language_info": {
   "codemirror_mode": {
    "name": "ipython",
    "version": 3
   },
   "file_extension": ".py",
   "mimetype": "text/x-python",
   "name": "python",
   "nbconvert_exporter": "python",
   "pygments_lexer": "ipython3",
   "version": "3.8.4"
  }
 },
 "nbformat": 4,
 "nbformat_minor": 4
}
