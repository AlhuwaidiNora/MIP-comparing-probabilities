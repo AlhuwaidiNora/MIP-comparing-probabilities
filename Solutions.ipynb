{
 "cells": [
  {
   "cell_type": "markdown",
   "metadata": {},
   "source": [
    "![ine-divider](https://user-images.githubusercontent.com/7065401/92672068-398e8080-f2ee-11ea-82d6-ad53f7feb5c0.png)\n",
    "<hr>\n",
    "\n",
    "# Intro to probability\n",
    "\n",
    "## Comparing Theoretical and Empirical Probabilities\n",
    "\n",
    "You have already know how probability works for rolling a `die`. So, imagine that we will play a **role-playing game**. \n",
    "\n",
    "This game is played in the following ways:\n",
    "\n",
    "    a) The \"enemy\" may roll 1, 2, or 3 dice and sum the total values of each dice.\n",
    "\n",
    "    b) The \"attack\" may roll 1, 2 or 3 dice and sum the total values of each dice.\n",
    "\n",
    "    c) The total rolled attack dice is compared to the total rolled enemy dice, and\n",
    "\n",
    "       1. the attacker loses if the attack dice <= enemy dice,\n",
    "       2. the enemy loses if the attack dice > enemy dice.\n",
    "\n",
    "Standard dice have six faces numbered from 1 through 6. The probability of throwing a specific number is 1/6. If we call any specific number N,\n",
    "then the probability of throwing \"N or less\" with a single dice is the sum of the probabilities for each value from 1 to N.  \n",
    "\n",
    "![orange-divider](https://user-images.githubusercontent.com/7065401/92672455-187a5f80-f2ef-11ea-890c-40be9474f7b7.png)\n"
   ]
  },
  {
   "cell_type": "markdown",
   "metadata": {},
   "source": [
    "**A)** Implement a **dice()** function that can be used as dice throw and the function will return a random value between 1 to 6. "
   ]
  },
  {
   "cell_type": "code",
   "execution_count": 1,
   "metadata": {},
   "outputs": [],
   "source": [
    "import random\n",
    "import pandas as pd"
   ]
  },
  {
   "cell_type": "code",
   "execution_count": 2,
   "metadata": {},
   "outputs": [
    {
     "data": {
      "text/plain": [
       "4"
      ]
     },
     "execution_count": 2,
     "metadata": {},
     "output_type": "execute_result"
    }
   ],
   "source": [
    "def dice():\n",
    "    return random.randint(1,6)\n",
    "dice()"
   ]
  },
  {
   "cell_type": "markdown",
   "metadata": {},
   "source": [
    "---\n",
    "**B)** Now, define a function to `attack` the enemy which depends on the dice number."
   ]
  },
  {
   "cell_type": "code",
   "execution_count": 3,
   "metadata": {},
   "outputs": [],
   "source": [
    "def attack(number_of_dice):\n",
    "    return sum([dice() for _ in range(number_of_dice)])"
   ]
  },
  {
   "cell_type": "code",
   "execution_count": 4,
   "metadata": {},
   "outputs": [
    {
     "data": {
      "text/plain": [
       "9"
      ]
     },
     "execution_count": 4,
     "metadata": {},
     "output_type": "execute_result"
    }
   ],
   "source": [
    "attack(3)"
   ]
  },
  {
   "cell_type": "markdown",
   "metadata": {},
   "source": [
    "It's time to begin the **battle**!\n",
    "\n",
    "We will call `enemy_armour` the number which represents the power of the armour of your enemy and `number_of_dice` to the sum of dice when you attack."
   ]
  },
  {
   "cell_type": "markdown",
   "metadata": {},
   "source": [
    "---\n",
    "**C)** Define a `battle` function which returns a true value if you win the battle (the sum of the dice > enemy armour), and false otherwise."
   ]
  },
  {
   "cell_type": "code",
   "execution_count": 5,
   "metadata": {},
   "outputs": [],
   "source": [
    "def battle(number_of_dice, enemy_armour):\n",
    "    '''Returns True if you beat the enemy, False otherwise'''\n",
    "    return attack(number_of_dice)>enemy_armour"
   ]
  },
  {
   "cell_type": "markdown",
   "metadata": {},
   "source": [
    "---\n",
    "**D)** Suppose the enemy has an armour with a power of 8 and you will attack with 2 dice. Who wins the battle?"
   ]
  },
  {
   "cell_type": "code",
   "execution_count": 6,
   "metadata": {},
   "outputs": [],
   "source": [
    "def battle_1():\n",
    "    return battle(2,8)"
   ]
  },
  {
   "cell_type": "markdown",
   "metadata": {},
   "source": [
    "---\n",
    "**E)** if the enemy has an armour with power 12 and you attack with 3 dice. Who wins the battle?"
   ]
  },
  {
   "cell_type": "code",
   "execution_count": 7,
   "metadata": {},
   "outputs": [],
   "source": [
    "def battle_2():\n",
    "    return battle(3,12)"
   ]
  },
  {
   "cell_type": "code",
   "execution_count": 8,
   "metadata": {},
   "outputs": [
    {
     "data": {
      "text/plain": [
       "False"
      ]
     },
     "execution_count": 8,
     "metadata": {},
     "output_type": "execute_result"
    }
   ],
   "source": [
    "battle_2()"
   ]
  },
  {
   "cell_type": "markdown",
   "metadata": {},
   "source": [
    "---\n",
    "**F)** Let's calculate the **empirical probability** to win battle 1 and battle 2. "
   ]
  },
  {
   "cell_type": "code",
   "execution_count": 9,
   "metadata": {},
   "outputs": [],
   "source": [
    "def empiric_prob(experiment, n=10000):\n",
    "    return sum([experiment() for _ in range(n)])/n"
   ]
  },
  {
   "cell_type": "code",
   "execution_count": 10,
   "metadata": {},
   "outputs": [
    {
     "data": {
      "text/plain": [
       "0.276"
      ]
     },
     "execution_count": 10,
     "metadata": {},
     "output_type": "execute_result"
    }
   ],
   "source": [
    "empiric_prob(battle_1)"
   ]
  },
  {
   "cell_type": "code",
   "execution_count": 11,
   "metadata": {},
   "outputs": [
    {
     "data": {
      "text/plain": [
       "0.2531"
      ]
     },
     "execution_count": 11,
     "metadata": {},
     "output_type": "execute_result"
    }
   ],
   "source": [
    "empiric_prob(battle_2)"
   ]
  },
  {
   "cell_type": "markdown",
   "metadata": {},
   "source": [
    "---\n",
    "**G)** Calculate the **theoretical probability** and compare with the **empirical one**:"
   ]
  },
  {
   "cell_type": "markdown",
   "metadata": {},
   "source": [
    "Here's an example of what first battle looks like. Remember that to win that battle we sum of the two dice should be higher than 8.\n",
    "\n",
    "So, to win that battle we need that the sum of the two dice should be higher than 8. "
   ]
  },
  {
   "cell_type": "code",
   "execution_count": 12,
   "metadata": {},
   "outputs": [
    {
     "name": "stdout",
     "output_type": "stream",
     "text": [
      "10 36\n"
     ]
    }
   ],
   "source": [
    "amount = 0\n",
    "count=0\n",
    "for x in range(1,7,1):\n",
    "    for y in range(1,7,1):\n",
    "        if x+y>8:\n",
    "            amount=amount+1\n",
    "        count=count+1\n",
    "        \n",
    "print(amount,count)        "
   ]
  },
  {
   "cell_type": "code",
   "execution_count": 13,
   "metadata": {},
   "outputs": [
    {
     "data": {
      "text/plain": [
       "0.004"
      ]
     },
     "execution_count": 13,
     "metadata": {},
     "output_type": "execute_result"
    }
   ],
   "source": [
    "round(abs(empiric_prob(battle_1)-amount/count),4)"
   ]
  },
  {
   "cell_type": "markdown",
   "metadata": {},
   "source": [
    "---\n",
    "**H)** The result is close to the \"empiric_prob(battle_1)\", but it could be better. What would you do to improve the empirical probability? "
   ]
  },
  {
   "cell_type": "code",
   "execution_count": 14,
   "metadata": {},
   "outputs": [
    {
     "data": {
      "text/plain": [
       "0.27818"
      ]
     },
     "execution_count": 14,
     "metadata": {},
     "output_type": "execute_result"
    }
   ],
   "source": [
    "emp_prob = empiric_prob(battle_1, n=100000)\n",
    "emp_prob"
   ]
  },
  {
   "cell_type": "code",
   "execution_count": 15,
   "metadata": {},
   "outputs": [
    {
     "data": {
      "text/plain": [
       "0.0004"
      ]
     },
     "execution_count": 15,
     "metadata": {},
     "output_type": "execute_result"
    }
   ],
   "source": [
    "round(abs(emp_prob- amount/count),4)"
   ]
  },
  {
   "cell_type": "markdown",
   "metadata": {},
   "source": [
    "---\n",
    "**I)** Include in a dataframe the differences between the **empirical and theoretical probability** for different n values:"
   ]
  },
  {
   "cell_type": "code",
   "execution_count": 16,
   "metadata": {},
   "outputs": [
    {
     "data": {
      "text/html": [
       "<div>\n",
       "<style scoped>\n",
       "    .dataframe tbody tr th:only-of-type {\n",
       "        vertical-align: middle;\n",
       "    }\n",
       "\n",
       "    .dataframe tbody tr th {\n",
       "        vertical-align: top;\n",
       "    }\n",
       "\n",
       "    .dataframe thead th {\n",
       "        text-align: right;\n",
       "    }\n",
       "</style>\n",
       "<table border=\"1\" class=\"dataframe\">\n",
       "  <thead>\n",
       "    <tr style=\"text-align: right;\">\n",
       "      <th></th>\n",
       "      <th>Times</th>\n",
       "      <th>Empirical Probability</th>\n",
       "      <th>Difference</th>\n",
       "    </tr>\n",
       "  </thead>\n",
       "  <tbody>\n",
       "    <tr>\n",
       "      <th>0</th>\n",
       "      <td>10000</td>\n",
       "      <td>0.278500</td>\n",
       "      <td>0.000722</td>\n",
       "    </tr>\n",
       "    <tr>\n",
       "      <th>1</th>\n",
       "      <td>100000</td>\n",
       "      <td>0.278660</td>\n",
       "      <td>0.000882</td>\n",
       "    </tr>\n",
       "    <tr>\n",
       "      <th>2</th>\n",
       "      <td>1000000</td>\n",
       "      <td>0.277997</td>\n",
       "      <td>0.000219</td>\n",
       "    </tr>\n",
       "    <tr>\n",
       "      <th>3</th>\n",
       "      <td>10000000</td>\n",
       "      <td>0.277748</td>\n",
       "      <td>0.000030</td>\n",
       "    </tr>\n",
       "  </tbody>\n",
       "</table>\n",
       "</div>"
      ],
      "text/plain": [
       "      Times  Empirical Probability  Difference\n",
       "0     10000               0.278500    0.000722\n",
       "1    100000               0.278660    0.000882\n",
       "2   1000000               0.277997    0.000219\n",
       "3  10000000               0.277748    0.000030"
      ]
     },
     "execution_count": 16,
     "metadata": {},
     "output_type": "execute_result"
    }
   ],
   "source": [
    "times = [10000, 100000, 1000000, 10000000]\n",
    "experiments = []\n",
    "\n",
    "for t in times:\n",
    "    experiments.append(empiric_prob(battle_1,t))\n",
    "dif = []    \n",
    "for i in range(len(times)): \n",
    "    dif.append(abs(experiments[i]-5/18))   \n",
    "data = {'Times':['10000', '100000', '1000000', '10000000'], 'Empirical Probability': experiments,\n",
    "        'Difference': dif}\n",
    "df = pd.DataFrame(data)\n",
    "df    \n",
    "    "
   ]
  },
  {
   "cell_type": "markdown",
   "metadata": {},
   "source": [
    "---\n",
    "**J)** Let's calculate the **theoretical probability** for the second battle and make a comparison with the **empirical** one."
   ]
  },
  {
   "cell_type": "code",
   "execution_count": 17,
   "metadata": {},
   "outputs": [
    {
     "data": {
      "text/html": [
       "<div>\n",
       "<style scoped>\n",
       "    .dataframe tbody tr th:only-of-type {\n",
       "        vertical-align: middle;\n",
       "    }\n",
       "\n",
       "    .dataframe tbody tr th {\n",
       "        vertical-align: top;\n",
       "    }\n",
       "\n",
       "    .dataframe thead th {\n",
       "        text-align: right;\n",
       "    }\n",
       "</style>\n",
       "<table border=\"1\" class=\"dataframe\">\n",
       "  <thead>\n",
       "    <tr style=\"text-align: right;\">\n",
       "      <th></th>\n",
       "      <th>Times</th>\n",
       "      <th>Empirical Probability</th>\n",
       "      <th>Difference</th>\n",
       "    </tr>\n",
       "  </thead>\n",
       "  <tbody>\n",
       "    <tr>\n",
       "      <th>0</th>\n",
       "      <td>10000</td>\n",
       "      <td>0.256000</td>\n",
       "      <td>0.003259</td>\n",
       "    </tr>\n",
       "    <tr>\n",
       "      <th>1</th>\n",
       "      <td>100000</td>\n",
       "      <td>0.255290</td>\n",
       "      <td>0.003969</td>\n",
       "    </tr>\n",
       "    <tr>\n",
       "      <th>2</th>\n",
       "      <td>1000000</td>\n",
       "      <td>0.259408</td>\n",
       "      <td>0.000149</td>\n",
       "    </tr>\n",
       "    <tr>\n",
       "      <th>3</th>\n",
       "      <td>10000000</td>\n",
       "      <td>0.259359</td>\n",
       "      <td>0.000100</td>\n",
       "    </tr>\n",
       "  </tbody>\n",
       "</table>\n",
       "</div>"
      ],
      "text/plain": [
       "      Times  Empirical Probability  Difference\n",
       "0     10000               0.256000    0.003259\n",
       "1    100000               0.255290    0.003969\n",
       "2   1000000               0.259408    0.000149\n",
       "3  10000000               0.259359    0.000100"
      ]
     },
     "execution_count": 17,
     "metadata": {},
     "output_type": "execute_result"
    }
   ],
   "source": [
    "amount = 0\n",
    "for x in range(1,7,1):\n",
    "    for y in range(1,7,1):\n",
    "        for z in range(1,7,1):\n",
    "            if x+y+z>12:\n",
    "                amount=amount+1\n",
    "times = [10000, 100000, 1000000, 10000000]\n",
    "experiments = []\n",
    "for t in times:\n",
    "    experiments.append(empiric_prob(battle_2,t))\n",
    "dif = []    \n",
    "for i in range(len(times)): \n",
    "    dif.append(abs(experiments[i]-amount/6**3))   \n",
    "data = {'Times':['10000', '100000', '1000000', '10000000'], 'Empirical Probability': experiments,\n",
    "        'Difference': dif}\n",
    "df = pd.DataFrame(data)\n",
    "df    \n",
    "    "
   ]
  },
  {
   "cell_type": "markdown",
   "metadata": {},
   "source": [
    "![orange-divider](https://user-images.githubusercontent.com/7065401/92672455-187a5f80-f2ef-11ea-890c-40be9474f7b7.png)"
   ]
  }
 ],
 "metadata": {
  "kernelspec": {
   "display_name": "Python 3",
   "language": "python",
   "name": "python3"
  },
  "language_info": {
   "codemirror_mode": {
    "name": "ipython",
    "version": 3
   },
   "file_extension": ".py",
   "mimetype": "text/x-python",
   "name": "python",
   "nbconvert_exporter": "python",
   "pygments_lexer": "ipython3",
   "version": "3.8.4"
  }
 },
 "nbformat": 4,
 "nbformat_minor": 4
}
